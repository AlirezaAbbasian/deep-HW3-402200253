{
  "cells": [
    {
      "cell_type": "markdown",
      "metadata": {
        "id": "dvuRcVavF_A2"
      },
      "source": [
        "<div dir=\"rtl\">\n",
        "<font face=\"B Nazanin\" size=\"10\">\n",
        "سوال اول عملی تمرین سوم یادگیری عمیق\n",
        "</font>\n",
        "</div>"
      ]
    },
    {
      "cell_type": "code",
      "execution_count": 1,
      "metadata": {
        "colab": {
          "base_uri": "https://localhost:8080/"
        },
        "id": "IrXJ-5A0p5BK",
        "outputId": "47b402a5-ec50-427a-a8a5-40f7abde5633"
      },
      "outputs": [
        {
          "output_type": "stream",
          "name": "stdout",
          "text": [
            "your student id: 402200253\n",
            "your name: Alireza Abbasian\n"
          ]
        }
      ],
      "source": [
        "student_id = \"402200253\"\n",
        "student_name = \"Alireza Abbasian\"\n",
        "\n",
        "print(\"your student id:\", student_id)\n",
        "print(\"your name:\", student_name)"
      ]
    },
    {
      "cell_type": "code",
      "execution_count": 2,
      "metadata": {
        "id": "2OsApJ2yGnfM"
      },
      "outputs": [],
      "source": [
        "import torch\n",
        "import torchvision\n",
        "import torchvision.transforms as transforms\n",
        "import torchvision.datasets as datasets\n",
        "from torch.utils.data import DataLoader\n",
        "import torch.nn as nn\n",
        "import torch.optim as optim\n",
        "from sklearn.metrics import precision_score, accuracy_score\n",
        "from tqdm import tqdm\n",
        "import matplotlib.pyplot as plt\n",
        "import numpy as np\n",
        "from torch.utils.data import random_split\n",
        "from torch.utils.data import Dataset"
      ]
    },
    {
      "cell_type": "code",
      "execution_count": 3,
      "metadata": {
        "colab": {
          "base_uri": "https://localhost:8080/"
        },
        "id": "nNHgLdh8Tj2K",
        "outputId": "fe67ace0-f5ff-47a9-cd64-fe4705630df6"
      },
      "outputs": [
        {
          "output_type": "stream",
          "name": "stdout",
          "text": [
            "device =  cuda\n"
          ]
        }
      ],
      "source": [
        "torch.manual_seed(1402)\n",
        "np.random.seed(1402)\n",
        "device = \"cuda\" if torch.cuda.is_available() else \"cpu\"\n",
        "print(\"device = \",device)"
      ]
    },
    {
      "cell_type": "markdown",
      "metadata": {
        "id": "gg5sQukUAzuQ"
      },
      "source": [
        "# preprocess data"
      ]
    },
    {
      "cell_type": "markdown",
      "metadata": {
        "id": "psHsZHZTeAMH"
      },
      "source": [
        "<div dir=\"rtl\">\n",
        "<font face=\"B Nazanin\" size=\"5\">\n",
        "در cell\n",
        "زیر دیتاست\n",
        "CIFAR10\n",
        "را دانلود کرده ایم و داده های هواپیما و ماشین\n",
        "را جدا کرده ایم.\n",
        "و برای تست و train و\n",
        "validation\n",
        "دیتالودر درست کرده ایم.\n",
        "مقادیر نرمالیزاسیون را هم از یک صفحه پرسش و پاسخ در گیت هاب استخراج کردم.\n",
        "</font>\n",
        "</div>"
      ]
    },
    {
      "cell_type": "code",
      "execution_count": 4,
      "metadata": {
        "colab": {
          "base_uri": "https://localhost:8080/"
        },
        "id": "k_lzwA4HGpmT",
        "outputId": "10462c0c-6574-46d6-c6ed-01db89e17f32"
      },
      "outputs": [
        {
          "output_type": "stream",
          "name": "stdout",
          "text": [
            "Downloading https://www.cs.toronto.edu/~kriz/cifar-10-python.tar.gz to ./data/cifar-10-python.tar.gz\n"
          ]
        },
        {
          "output_type": "stream",
          "name": "stderr",
          "text": [
            "100%|██████████| 170498071/170498071 [00:13<00:00, 12959493.29it/s]\n"
          ]
        },
        {
          "output_type": "stream",
          "name": "stdout",
          "text": [
            "Extracting ./data/cifar-10-python.tar.gz to ./data\n",
            "Files already downloaded and verified\n"
          ]
        }
      ],
      "source": [
        "# Define data transformations\n",
        "transform = transforms.Compose([\n",
        "    transforms.ToTensor(),\n",
        "    transforms.Normalize((0.4914, 0.4822, 0.4465), (0.247, 0.243, 0.261))\n",
        "])\n",
        "\n",
        "# Load CIFAR-10 dataset\n",
        "train_dataset = datasets.CIFAR10(root='./data', train=True, download=True, transform=transform)\n",
        "test_dataset = datasets.CIFAR10(root='./data', train=False, download=True, transform=transform)\n",
        "\n",
        "# find index of 'airplane' and 'automobile' classes\n",
        "class_names = ['airplane', 'automobile']\n",
        "class_indices = [train_dataset.class_to_idx[class_name] for class_name in class_names]\n",
        "\n",
        "# Filter data for 'airplane' and 'automobile' classes\n",
        "train_filtered_indices = [i for i, label in enumerate(train_dataset.targets) if label in class_indices]\n",
        "test_filtered_indices = [i for i, label in enumerate(test_dataset.targets) if label in class_indices]\n",
        "\n",
        "# Create a subset of the dataset with only 'airplane' and 'automobile' classes\n",
        "train_dataset = torch.utils.data.Subset(train_dataset, train_filtered_indices)\n",
        "test_dataset = torch.utils.data.Subset(test_dataset, test_filtered_indices)\n",
        "\n",
        "# Split the train_subset_dataset into train and validation\n",
        "train_size = int(0.8 * len(train_dataset))\n",
        "val_size = len(train_dataset) - train_size\n",
        "train_dataset, val_dataset = random_split(train_dataset, [train_size, val_size])\n",
        "\n",
        "# Create data loaders for train, validation, and test\n",
        "train_loader = DataLoader(train_dataset, batch_size=64, shuffle=True)\n",
        "val_loader = DataLoader(val_dataset, batch_size=64, shuffle=False)\n",
        "test_loader = DataLoader(test_dataset, batch_size=64, shuffle=False)"
      ]
    },
    {
      "cell_type": "markdown",
      "metadata": {
        "id": "ZGzF2gTLoHHQ"
      },
      "source": [
        "<div dir=\"rtl\">\n",
        "<font face=\"B Nazanin\" size=\"5\">\n",
        "در cell\n",
        "زیر ابعاد هر تصویر و سایز دیتای تست و ترین و ولیدیشن را حساب کرده ام.\n",
        "</font>\n",
        "</div>"
      ]
    },
    {
      "cell_type": "code",
      "execution_count": 5,
      "metadata": {
        "colab": {
          "base_uri": "https://localhost:8080/"
        },
        "id": "NbZRYXY2oc0N",
        "outputId": "2017506e-c397-4309-d567-d19eab8a983e"
      },
      "outputs": [
        {
          "output_type": "stream",
          "name": "stdout",
          "text": [
            "Number of samples in the training dataset: 8000\n",
            "Dimensions of each training sample: torch.Size([3, 32, 32])\n",
            "\n",
            "Number of samples in the validation dataset: 2000\n",
            "Dimensions of each validation sample: torch.Size([3, 32, 32])\n",
            "\n",
            "Number of samples in the test dataset: 2000\n",
            "Dimensions of each test sample: torch.Size([3, 32, 32])\n"
          ]
        }
      ],
      "source": [
        "# Print number of samples and dimensions in training dataset\n",
        "print(f\"Number of samples in the training dataset: {len(train_dataset)}\")\n",
        "print(f\"Dimensions of each training sample: {train_dataset[0][0].shape}\")\n",
        "\n",
        "# Print number of samples and dimensions in validation dataset\n",
        "print(f\"\\nNumber of samples in the validation dataset: {len(val_dataset)}\")\n",
        "print(f\"Dimensions of each validation sample: {val_dataset[0][0].shape}\")\n",
        "\n",
        "# Print number of samples and dimensions in test dataset\n",
        "print(f\"\\nNumber of samples in the test dataset: {len(test_dataset)}\")\n",
        "print(f\"Dimensions of each test sample: {test_dataset[0][0].shape}\")"
      ]
    },
    {
      "cell_type": "markdown",
      "metadata": {
        "id": "cX7wmzCJoczb"
      },
      "source": [
        "<div dir=\"rtl\">\n",
        "<font face=\"B Nazanin\" size=\"5\">\n",
        "در cell\n",
        "زیر\n",
        "سه نمونه دیتای train\n",
        "نمایش داده شده است.\n",
        "</font>\n",
        "</div>"
      ]
    },
    {
      "cell_type": "code",
      "execution_count": 6,
      "metadata": {
        "colab": {
          "base_uri": "https://localhost:8080/",
          "height": 332
        },
        "id": "4c1zbkzXkbYy",
        "outputId": "485cfb6e-d4a5-45be-a59f-2846443e5057"
      },
      "outputs": [
        {
          "output_type": "display_data",
          "data": {
            "text/plain": [
              "<Figure size 1200x400 with 3 Axes>"
            ],
            "image/png": "[encoded data removed]"
          },
          "metadata": {}
        }
      ],
      "source": [
        "# Display two images for each class\n",
        "fig, axs = plt.subplots(1, 3, figsize=(12, 4))\n",
        "for i in range(3):\n",
        "    img, label = train_dataset[i]\n",
        "    img = np.transpose(img.numpy(), (1, 2, 0))  # Transpose to (height, width, channels) for display\n",
        "    img = (img - np.min(img)) / (np.max(img) - np.min(img))  # Normalize to [0, 1]\n",
        "    axs[i].imshow(img)\n",
        "    axs[i].set_title(class_names[label])\n",
        "    axs[i].axis('off')\n",
        "\n",
        "plt.show()"
      ]
    },
    {
      "cell_type": "markdown",
      "metadata": {
        "id": "GNiAz5Pr6rsB"
      },
      "source": [
        "<div dir=\"rtl\">\n",
        "<font face=\"B Nazanin\" size=\"5\">\n",
        "\n",
        "</font>\n",
        "</div>"
      ]
    },
    {
      "cell_type": "markdown",
      "metadata": {
        "id": "ocgvQQQsIkup"
      },
      "source": [
        "# part 1: cross entropy loss"
      ]
    },
    {
      "cell_type": "markdown",
      "metadata": {
        "id": "3utIpXbF36Iy"
      },
      "source": [
        "<div dir=\"rtl\">\n",
        "<font face=\"B Nazanin\" size=\"5\">\n",
        "در cell\n",
        "زیر کلاس my_classifir\n",
        "را توصیف کرده ام.\n",
        "این کلاس یک\n",
        "feature_extractor\n",
        "را با یک شبکه FC\n",
        "یک لایه ای به هم متصل می کند.\n",
        "\n",
        "\n",
        "\n",
        "\n",
        "</font>\n",
        "</div>"
      ]
    },
    {
      "cell_type": "code",
      "execution_count": 7,
      "metadata": {
        "id": "JofIGAif6b9J"
      },
      "outputs": [],
      "source": [
        "class My_classifier(nn.Module):\n",
        "\n",
        "    def __init__ (self, feature_extractor, num_features, num_output):\n",
        "        super(My_classifier, self).__init__()\n",
        "        self.feature_extractor = feature_extractor\n",
        "        self.fc = nn.Linear(num_features, num_output)\n",
        "\n",
        "    def forward(self, x):\n",
        "        features = self.feature_extractor(x)\n",
        "        outputs = self.fc(features)\n",
        "        return features, outputs"
      ]
    },
    {
      "cell_type": "markdown",
      "metadata": {
        "id": "ouTJ7WZr36Iy"
      },
      "source": [
        "<div dir=\"rtl\">\n",
        "<font face=\"B Nazanin\" size=\"5\">\n",
        "برای feature_extractor\n",
        "من\n",
        "resnet50\n",
        "را انتخاب کرده ام.\n",
        "آن را با وزن های پیش آموزش داده شده دانلود کرده ام.\n",
        "سپس به کلاس خودم اضافه کرده ام.\n",
        "\n",
        "</font>\n",
        "</div>"
      ]
    },
    {
      "cell_type": "code",
      "execution_count": 8,
      "metadata": {
        "id": "YMu3XLItgUzQ",
        "colab": {
          "base_uri": "https://localhost:8080/"
        },
        "outputId": "dc4dbc82-8bcd-491b-8f6c-5e64b239885c"
      },
      "outputs": [
        {
          "output_type": "stream",
          "name": "stderr",
          "text": [
            "Downloading: \"https://download.pytorch.org/models/resnet50-11ad3fa6.pth\" to /root/.cache/torch/hub/checkpoints/resnet50-11ad3fa6.pth\n",
            "100%|██████████| 97.8M/97.8M [00:01<00:00, 74.9MB/s]\n"
          ]
        }
      ],
      "source": [
        "# Load pre-trained ResNet50 model\n",
        "feature_extractor = torchvision.models.resnet50(weights=torchvision.models.ResNet50_Weights.IMAGENET1K_V2)\n",
        "num_out_features_of_resnet = feature_extractor.fc.in_features\n",
        "feature_extractor.fc = nn.Identity()\n",
        "feature_extractor = feature_extractor.to(device)\n",
        "\n",
        "model = My_classifier(feature_extractor, num_out_features_of_resnet, len(class_names))\n",
        "model = model.to(device)"
      ]
    },
    {
      "cell_type": "markdown",
      "metadata": {
        "id": "AFwD9jPx36Iz"
      },
      "source": [
        "<div dir=\"rtl\">\n",
        "<font face=\"B Nazanin\" size=\"5\">\n",
        "در cell\n",
        "زیر من تابع\n",
        "evaluate_model\n",
        "را تعریف کرده ام که مدل و دیتالودر را می گیرد و دقت و صحت مدل را محاسبه می کند.\n",
        "\n",
        "\n",
        "\n",
        "\n",
        "\n",
        "</font>\n",
        "</div>"
      ]
    },
    {
      "cell_type": "code",
      "execution_count": 9,
      "metadata": {
        "id": "N-jYh-w9b4_J"
      },
      "outputs": [],
      "source": [
        "def evaluate_model(model, dataloader, criterion):\n",
        "    model.eval()\n",
        "    all_labels = []\n",
        "    all_predictions = []\n",
        "\n",
        "    with torch.no_grad():\n",
        "        for x, labels in tqdm(dataloader):\n",
        "            x = x.to(device)\n",
        "            labels = labels.to(device)\n",
        "            _, outputs = model(x)\n",
        "            _, predictions = torch.max(outputs, 1)\n",
        "            all_labels.extend(labels.cpu().numpy())\n",
        "            all_predictions.extend(predictions.cpu().numpy())\n",
        "\n",
        "    accuracy = accuracy_score(all_labels, all_predictions)\n",
        "    precision = precision_score(all_labels, all_predictions, average='weighted')\n",
        "\n",
        "    return accuracy, precision"
      ]
    },
    {
      "cell_type": "markdown",
      "metadata": {
        "id": "9Z7JCpMG36Iz"
      },
      "source": [
        "<div dir=\"rtl\">\n",
        "<font face=\"B Nazanin\" size=\"5\">\n",
        "\n",
        "در سلول زیر فرایند یادگیری انجام شده است.\n",
        "توجه کنید که در هر ایپاک یک بار روی کل دیتالود ترین و یک بار هم روی ولیدیشن\n",
        "تابع\n",
        "evaluate_model\n",
        "را صدا میزنیم تا دقت و صحت مدل را ببینیم.\n",
        "\n",
        "\n",
        "\n",
        "</font>\n",
        "</div>"
      ]
    },
    {
      "cell_type": "code",
      "execution_count": 10,
      "metadata": {
        "colab": {
          "base_uri": "https://localhost:8080/"
        },
        "id": "IUaC8vwA3ij7",
        "outputId": "862c8445-f11f-4e0e-d3bf-642f2d20585d"
      },
      "outputs": [
        {
          "output_type": "stream",
          "name": "stdout",
          "text": [
            "Epoch 1/4\n",
            "training loop:\n"
          ]
        },
        {
          "output_type": "stream",
          "name": "stderr",
          "text": [
            "100%|██████████| 125/125 [00:08<00:00, 14.48it/s]\n"
          ]
        },
        {
          "output_type": "stream",
          "name": "stdout",
          "text": [
            "evaluation loop:\n"
          ]
        },
        {
          "output_type": "stream",
          "name": "stderr",
          "text": [
            "100%|██████████| 125/125 [00:04<00:00, 29.74it/s]\n"
          ]
        },
        {
          "output_type": "stream",
          "name": "stdout",
          "text": [
            "validation loop:\n"
          ]
        },
        {
          "output_type": "stream",
          "name": "stderr",
          "text": [
            "100%|██████████| 32/32 [00:00<00:00, 32.20it/s]\n"
          ]
        },
        {
          "output_type": "stream",
          "name": "stdout",
          "text": [
            "Loss: 0.2315\n",
            "Train Accuracy: 97.75 %, Train Precision: 97.76 %\n",
            "Validation Accuracy: 95.75 %, Validation Precision: 95.76 %\n",
            "Epoch 2/4\n",
            "training loop:\n"
          ]
        },
        {
          "output_type": "stream",
          "name": "stderr",
          "text": [
            "100%|██████████| 125/125 [00:06<00:00, 18.22it/s]\n"
          ]
        },
        {
          "output_type": "stream",
          "name": "stdout",
          "text": [
            "evaluation loop:\n"
          ]
        },
        {
          "output_type": "stream",
          "name": "stderr",
          "text": [
            "100%|██████████| 125/125 [00:03<00:00, 31.37it/s]\n"
          ]
        },
        {
          "output_type": "stream",
          "name": "stdout",
          "text": [
            "validation loop:\n"
          ]
        },
        {
          "output_type": "stream",
          "name": "stderr",
          "text": [
            "100%|██████████| 32/32 [00:00<00:00, 36.21it/s]\n"
          ]
        },
        {
          "output_type": "stream",
          "name": "stdout",
          "text": [
            "Loss: 0.0988\n",
            "Train Accuracy: 99.42 %, Train Precision: 99.43 %\n",
            "Validation Accuracy: 97.80 %, Validation Precision: 97.80 %\n",
            "Epoch 3/4\n",
            "training loop:\n"
          ]
        },
        {
          "output_type": "stream",
          "name": "stderr",
          "text": [
            "100%|██████████| 125/125 [00:06<00:00, 18.24it/s]\n"
          ]
        },
        {
          "output_type": "stream",
          "name": "stdout",
          "text": [
            "evaluation loop:\n"
          ]
        },
        {
          "output_type": "stream",
          "name": "stderr",
          "text": [
            "100%|██████████| 125/125 [00:03<00:00, 34.78it/s]\n"
          ]
        },
        {
          "output_type": "stream",
          "name": "stdout",
          "text": [
            "validation loop:\n"
          ]
        },
        {
          "output_type": "stream",
          "name": "stderr",
          "text": [
            "100%|██████████| 32/32 [00:01<00:00, 28.27it/s]\n"
          ]
        },
        {
          "output_type": "stream",
          "name": "stdout",
          "text": [
            "Loss: 0.0419\n",
            "Train Accuracy: 99.58 %, Train Precision: 99.58 %\n",
            "Validation Accuracy: 97.35 %, Validation Precision: 97.35 %\n",
            "Epoch 4/4\n",
            "training loop:\n"
          ]
        },
        {
          "output_type": "stream",
          "name": "stderr",
          "text": [
            "100%|██████████| 125/125 [00:06<00:00, 18.03it/s]\n"
          ]
        },
        {
          "output_type": "stream",
          "name": "stdout",
          "text": [
            "evaluation loop:\n"
          ]
        },
        {
          "output_type": "stream",
          "name": "stderr",
          "text": [
            "100%|██████████| 125/125 [00:03<00:00, 39.62it/s]\n"
          ]
        },
        {
          "output_type": "stream",
          "name": "stdout",
          "text": [
            "validation loop:\n"
          ]
        },
        {
          "output_type": "stream",
          "name": "stderr",
          "text": [
            "100%|██████████| 32/32 [00:00<00:00, 32.01it/s]"
          ]
        },
        {
          "output_type": "stream",
          "name": "stdout",
          "text": [
            "Loss: 0.0323\n",
            "Train Accuracy: 99.60 %, Train Precision: 99.60 %\n",
            "Validation Accuracy: 97.85 %, Validation Precision: 97.85 %\n"
          ]
        },
        {
          "output_type": "stream",
          "name": "stderr",
          "text": [
            "\n"
          ]
        }
      ],
      "source": [
        "# Define loss function and optimizer\n",
        "criterion = nn.CrossEntropyLoss()\n",
        "optimizer = optim.Adam(model.parameters(), lr=1e-3)\n",
        "\n",
        "num_epochs = 4\n",
        "\n",
        "train_losses = []\n",
        "train_accuracies = []\n",
        "train_precisions = []\n",
        "val_accuracies = []\n",
        "val_precisions = []\n",
        "\n",
        "# Training\n",
        "\n",
        "for epoch in range(num_epochs):\n",
        "    print(f'Epoch {epoch + 1}/{num_epochs}')\n",
        "\n",
        "    model.train()\n",
        "    running_loss = 0.0\n",
        "\n",
        "    print(\"training loop:\")\n",
        "    for x, labels in tqdm(train_loader):\n",
        "        x = x.to(device)\n",
        "        labels = labels.to(device)\n",
        "        optimizer.zero_grad()\n",
        "        _, outputs = model(x)\n",
        "        loss = criterion(outputs, labels)\n",
        "        loss.backward()\n",
        "        optimizer.step()\n",
        "        running_loss += loss.item()\n",
        "\n",
        "    average_loss = running_loss / len(train_loader)\n",
        "    train_losses.append(average_loss)\n",
        "\n",
        "    print(\"evaluation loop:\")\n",
        "    # Evaluate on the training set\n",
        "    train_accuracy, train_precision = evaluate_model(model, train_loader, criterion)\n",
        "    train_accuracies.append(train_accuracy)\n",
        "    train_precisions.append(train_precision)\n",
        "\n",
        "    print(\"validation loop:\")\n",
        "    # Evaluate on the validation set\n",
        "    val_accuracy, val_precision = evaluate_model(model, val_loader, criterion)\n",
        "    val_accuracies.append(val_accuracy)\n",
        "    val_precisions.append(val_precision)\n",
        "\n",
        "\n",
        "    print(f'Loss: {average_loss:.4f}')\n",
        "    print(f'Train Accuracy: {train_accuracy*100:.2f} %, Train Precision: {train_precision*100:.2f} %')\n",
        "    print(f'Validation Accuracy: {val_accuracy*100:.2f} %, Validation Precision: {val_precision*100:.2f} %')"
      ]
    },
    {
      "cell_type": "markdown",
      "metadata": {
        "id": "lgBJdGrK36I0"
      },
      "source": [
        "<div dir=\"rtl\">\n",
        "<font face=\"B Nazanin\" size=\"5\">\n",
        "\n",
        "در زیر نمودار های دقت و صحت مدل را\n",
        "هم روی دیتای ترین و هم  ولیدیشن در هر ایپاک\n",
        " رسم کرده ام.\n",
        "\n",
        "هم چنین مقدار trainig loss\n",
        "هم در هر ایپاک رسم شده\n",
        "\n",
        "میبینید که میتوانستیم باز ایپاک بیشتری ران کنیم ولی چون دقت\n",
        "بالا بود و میخواستم سریغ هر سلول اجرا شود ایپاک ها را کم کردم.\n",
        "</font>\n",
        "</div>"
      ]
    },
    {
      "cell_type": "code",
      "execution_count": 11,
      "metadata": {
        "colab": {
          "base_uri": "https://localhost:8080/",
          "height": 965
        },
        "id": "YnmpaukvjuOF",
        "outputId": "d44456be-f576-469f-cd8e-335f31989b77"
      },
      "outputs": [
        {
          "output_type": "display_data",
          "data": {
            "text/plain": [
              "<Figure size 600x300 with 1 Axes>"
            ],
            "image/png": "[encoded data removed]"
          },
          "metadata": {}
        },
        {
          "output_type": "display_data",
          "data": {
            "text/plain": [
              "<Figure size 600x300 with 1 Axes>"
            ],
            "image/png": "[encoded data removed]"
          },
          "metadata": {}
        },
        {
          "output_type": "display_data",
          "data": {
            "text/plain": [
              "<Figure size 600x300 with 1 Axes>"
            ],
            "image/png": "[encoded data removed]"
          },
          "metadata": {}
        }
      ],
      "source": [
        "# Plot Loss\n",
        "plt.figure(figsize=(6, 3))\n",
        "plt.plot(train_losses, label='Training Loss')\n",
        "plt.xlabel('Epoch')\n",
        "plt.ylabel('Loss')\n",
        "plt.title('Training Loss')\n",
        "plt.legend()\n",
        "plt.grid(True)\n",
        "plt.show()\n",
        "\n",
        "# Plot Accuracy\n",
        "plt.figure(figsize=(6, 3))\n",
        "plt.plot(train_accuracies, label='Training Accuracy')\n",
        "plt.plot(val_accuracies, label='Validation Accuracy')\n",
        "plt.xlabel('Epoch')\n",
        "plt.ylabel('Accuracy')\n",
        "plt.title('Training and Validation Accuracy')\n",
        "plt.legend()\n",
        "plt.grid(True)\n",
        "plt.show()\n",
        "\n",
        "# Plot Precision\n",
        "plt.figure(figsize=(6, 3))\n",
        "plt.plot(train_precisions, label='Training Precision')\n",
        "plt.plot(val_precisions, label='Validation Precision')\n",
        "plt.xlabel('Epoch')\n",
        "plt.ylabel('Precision')\n",
        "plt.title('Training and Validation Precision')\n",
        "plt.legend()\n",
        "plt.grid(True)\n",
        "plt.show()\n"
      ]
    },
    {
      "cell_type": "markdown",
      "metadata": {
        "id": "wYnClnvq36I1"
      },
      "source": [
        "<div dir=\"rtl\">\n",
        "<font face=\"B Nazanin\" size=\"5\">\n",
        "نتایج تست را در زیر میبینید.\n",
        "</font>\n",
        "</div>"
      ]
    },
    {
      "cell_type": "code",
      "execution_count": 12,
      "metadata": {
        "colab": {
          "base_uri": "https://localhost:8080/"
        },
        "id": "qP_tmDUGGHF0",
        "outputId": "fe79041f-9c24-4c9d-ba89-008ddfcf566e"
      },
      "outputs": [
        {
          "output_type": "stream",
          "name": "stderr",
          "text": [
            "100%|██████████| 32/32 [00:01<00:00, 25.10it/s]"
          ]
        },
        {
          "output_type": "stream",
          "name": "stdout",
          "text": [
            "\n",
            "test accuracy = 97.65 %\n",
            "test precision = 97.65 %\n"
          ]
        },
        {
          "output_type": "stream",
          "name": "stderr",
          "text": [
            "\n"
          ]
        }
      ],
      "source": [
        "test_accuracy, test_precision = evaluate_model(model, test_loader, criterion)\n",
        "\n",
        "print('\\ntest accuracy = %.2f %%' %(test_accuracy*100))\n",
        "print('test precision = %.2f %%' %(test_precision*100))"
      ]
    },
    {
      "cell_type": "markdown",
      "metadata": {
        "id": "wODLxF9aj_P9"
      },
      "source": [
        "# part 2: triplet loss"
      ]
    },
    {
      "cell_type": "markdown",
      "metadata": {
        "id": "KBmdInJe36I1"
      },
      "source": [
        "<div dir=\"rtl\">\n",
        "<font face=\"B Nazanin\" size=\"5\">\n",
        "\n",
        "در سلول زیر\n",
        "کلاس\n",
        "CustomDataset\n",
        "را نوشته ام.\n",
        "این کلاس دیتاست اصلی را میگیرد\n",
        "و برای هر تصویر\n",
        "در تابع\n",
        "__getitem__\n",
        "یک تصویر مثبت و یک تصویر منفی را انتخاب میکند.\n",
        "به این صورت که تصویری به جز ایندکس تصویر اصلی ولی از همان کلاس را به عنوان تصویر مثبت انتخاب میکند.\n",
        "و مشابه همان از کلاسی دیگر را به عنوان تصویر منفی انتخاب میکند.\n",
        "هر سه تصویر به همراه لیبل هایشان را بر میگرداند.\n",
        "\n",
        "</font>\n",
        "</div>"
      ]
    },
    {
      "cell_type": "code",
      "execution_count": 13,
      "metadata": {
        "id": "7dHdhcnBkPMQ"
      },
      "outputs": [],
      "source": [
        "class CustomDataset(Dataset):\n",
        "    def __init__(self, dataset):\n",
        "        self.dataset = dataset\n",
        "        self.num_samples = len(dataset)\n",
        "\n",
        "    def __getitem__(self, index):\n",
        "        anchor_data, anchor_label = self.dataset[index]\n",
        "\n",
        "        positive_index = index\n",
        "        while positive_index == index or self.dataset[positive_index][1] != anchor_label:\n",
        "            positive_index = torch.randint(0, self.num_samples, (1,)).item()\n",
        "        positive_data, positive_label = self.dataset[positive_index]\n",
        "\n",
        "        negative_index = index\n",
        "        while negative_index == index or self.dataset[negative_index][1] == anchor_label:\n",
        "            negative_index = torch.randint(0, self.num_samples, (1,)).item()\n",
        "        negative_data, negative_label = self.dataset[negative_index]\n",
        "\n",
        "        return anchor_data, anchor_label, positive_data, positive_label, negative_data, negative_label\n",
        "\n",
        "    def __len__(self):\n",
        "        return self.num_samples\n"
      ]
    },
    {
      "cell_type": "code",
      "execution_count": 14,
      "metadata": {
        "id": "0PI7YVcL4z6w"
      },
      "outputs": [],
      "source": [
        "train_loader_triplet = DataLoader(CustomDataset(train_dataset), batch_size=64, shuffle=True)"
      ]
    },
    {
      "cell_type": "code",
      "execution_count": 15,
      "metadata": {
        "id": "7ZbiXPE-5urh"
      },
      "outputs": [],
      "source": [
        "# Load pre-trained ResNet50 model\n",
        "feature_extractor = torchvision.models.resnet50(weights=torchvision.models.ResNet50_Weights.IMAGENET1K_V2)\n",
        "num_out_features_of_resnet = feature_extractor.fc.in_features\n",
        "feature_extractor.fc = nn.Identity()\n",
        "feature_extractor = feature_extractor.to(device)"
      ]
    },
    {
      "cell_type": "code",
      "execution_count": 16,
      "metadata": {
        "id": "bPWFbTr254V3"
      },
      "outputs": [],
      "source": [
        "criterion =  nn.TripletMarginLoss(margin=7, p=2)\n",
        "optimizer = optim.Adam(feature_extractor.parameters(), lr=1e-3)\n",
        "\n",
        "num_epochs = 4"
      ]
    },
    {
      "cell_type": "markdown",
      "metadata": {
        "id": "UoE591DP36I2"
      },
      "source": [
        "<div dir=\"rtl\">\n",
        "<font face=\"B Nazanin\" size=\"5\">\n",
        "\n",
        "در سلول زیر برای feature_extractor\n",
        "که همان resnet50\n",
        "است یادگیری انجام میشود.\n",
        "برای\n",
        "تابع هزینه\n",
        "از معیار\n",
        "TripletMarginLoss\n",
        "استفاده میکند.\n",
        "در هر ایتریشن با کمک دیتاست جدید سه تصویر را میگیرد و هزینه را محاسبه میکند.\n",
        "\n",
        "در ادامه نمودار loss\n",
        "در هر ابپاک هم رسم شده است\n",
        "\n",
        "</font>\n",
        "</div>"
      ]
    },
    {
      "cell_type": "code",
      "execution_count": 17,
      "metadata": {
        "colab": {
          "base_uri": "https://localhost:8080/"
        },
        "id": "mr-ZZZEgkPlA",
        "outputId": "10a6706c-88af-46f4-bd31-1ecae26dbe5b"
      },
      "outputs": [
        {
          "output_type": "stream",
          "name": "stdout",
          "text": [
            "Epoch 1/4\n"
          ]
        },
        {
          "output_type": "stream",
          "name": "stderr",
          "text": [
            "100%|██████████| 125/125 [00:30<00:00,  4.16it/s]\n"
          ]
        },
        {
          "output_type": "stream",
          "name": "stdout",
          "text": [
            "Epoch 2/4\n"
          ]
        },
        {
          "output_type": "stream",
          "name": "stderr",
          "text": [
            "100%|██████████| 125/125 [00:29<00:00,  4.23it/s]\n"
          ]
        },
        {
          "output_type": "stream",
          "name": "stdout",
          "text": [
            "Epoch 3/4\n"
          ]
        },
        {
          "output_type": "stream",
          "name": "stderr",
          "text": [
            "100%|██████████| 125/125 [00:29<00:00,  4.31it/s]\n"
          ]
        },
        {
          "output_type": "stream",
          "name": "stdout",
          "text": [
            "Epoch 4/4\n"
          ]
        },
        {
          "output_type": "stream",
          "name": "stderr",
          "text": [
            "100%|██████████| 125/125 [00:28<00:00,  4.35it/s]\n"
          ]
        }
      ],
      "source": [
        "\n",
        "train_losses = []\n",
        "train_accuracies = []\n",
        "train_precisions = []\n",
        "val_accuracies = []\n",
        "val_precisions = []\n",
        "\n",
        "# Training\n",
        "\n",
        "for epoch in range(num_epochs):\n",
        "    print(f'Epoch {epoch + 1}/{num_epochs}')\n",
        "\n",
        "    model.train()\n",
        "    running_loss = 0.0\n",
        "\n",
        "    for anchor_data, anchor_label, positive_data, positive_label, negative_data, negative_label in tqdm(train_loader_triplet):\n",
        "        anchor_data = anchor_data.to(device)\n",
        "        anchor_label = anchor_label.to(device)\n",
        "        positive_data = positive_data.to(device)\n",
        "        negative_data = negative_data.to(device)\n",
        "\n",
        "        optimizer.zero_grad()\n",
        "        features_anchor = feature_extractor(anchor_data)\n",
        "        features_positive = feature_extractor(positive_data)\n",
        "        features_negative = feature_extractor(negative_data)\n",
        "        loss = criterion(features_anchor, features_positive, features_negative)\n",
        "\n",
        "        loss.backward()\n",
        "        optimizer.step()\n",
        "        running_loss += loss.item()\n",
        "\n",
        "    average_loss = running_loss / len(train_loader)\n",
        "    train_losses.append(average_loss)\n"
      ]
    },
    {
      "cell_type": "code",
      "execution_count": 18,
      "metadata": {
        "colab": {
          "base_uri": "https://localhost:8080/",
          "height": 333
        },
        "id": "rJ3a7XpM7siP",
        "outputId": "fd4e634e-7a87-429a-eff3-703fb4da39b9"
      },
      "outputs": [
        {
          "output_type": "display_data",
          "data": {
            "text/plain": [
              "<Figure size 600x300 with 1 Axes>"
            ],
            "image/png": "[encoded data removed]"
          },
          "metadata": {}
        }
      ],
      "source": [
        "plt.figure(figsize=(6, 3))\n",
        "plt.plot(train_losses, label='Training Loss')\n",
        "plt.xlabel('Epoch')\n",
        "plt.ylabel('Loss')\n",
        "plt.title('Training Loss')\n",
        "plt.legend()\n",
        "plt.grid(True)\n",
        "plt.show()"
      ]
    },
    {
      "cell_type": "markdown",
      "metadata": {
        "id": "Zu24NYpN36I3"
      },
      "source": [
        "<div dir=\"rtl\">\n",
        "<font face=\"B Nazanin\" size=\"5\">\n",
        "\n",
        "حال در سلول زیر\n",
        "کل\n",
        "feature_extractor\n",
        "را freeze\n",
        "میکنیم و یک شبکه\n",
        "FC\n",
        "یک لایه ای به آن اضافه میکنیم.\n",
        "و آن را آموزش میدهیم\n",
        "\n",
        "نمودار ها رسم شده و نتایج مشخص است\n",
        "\n",
        "</font>\n",
        "</div>"
      ]
    },
    {
      "cell_type": "code",
      "execution_count": 19,
      "metadata": {
        "id": "RAZXdKoX7yBq"
      },
      "outputs": [],
      "source": [
        "for params in feature_extractor.parameters():\n",
        "    params.requires_grad = False\n",
        "\n",
        "model = My_classifier(feature_extractor, num_out_features_of_resnet, len(class_names))\n",
        "model = model.to(device)"
      ]
    },
    {
      "cell_type": "code",
      "execution_count": 20,
      "metadata": {
        "colab": {
          "base_uri": "https://localhost:8080/"
        },
        "id": "ZJYfeezZ8dxI",
        "outputId": "360892df-f830-4228-e15b-a368534c8fad"
      },
      "outputs": [
        {
          "output_type": "stream",
          "name": "stdout",
          "text": [
            "Epoch 1/4\n",
            "training loop:\n"
          ]
        },
        {
          "output_type": "stream",
          "name": "stderr",
          "text": [
            "100%|██████████| 125/125 [00:03<00:00, 35.83it/s]\n"
          ]
        },
        {
          "output_type": "stream",
          "name": "stdout",
          "text": [
            "evaluation loop:\n"
          ]
        },
        {
          "output_type": "stream",
          "name": "stderr",
          "text": [
            "100%|██████████| 125/125 [00:03<00:00, 35.96it/s]\n"
          ]
        },
        {
          "output_type": "stream",
          "name": "stdout",
          "text": [
            "validation loop:\n"
          ]
        },
        {
          "output_type": "stream",
          "name": "stderr",
          "text": [
            "100%|██████████| 32/32 [00:00<00:00, 33.07it/s]\n"
          ]
        },
        {
          "output_type": "stream",
          "name": "stdout",
          "text": [
            "Loss: 0.3102\n",
            "Train Accuracy: 98.64 %, Train Precision: 98.64 %\n",
            "Validation Accuracy: 97.35 %, Validation Precision: 97.35 %\n",
            "Epoch 2/4\n",
            "training loop:\n"
          ]
        },
        {
          "output_type": "stream",
          "name": "stderr",
          "text": [
            "100%|██████████| 125/125 [00:04<00:00, 29.72it/s]\n"
          ]
        },
        {
          "output_type": "stream",
          "name": "stdout",
          "text": [
            "evaluation loop:\n"
          ]
        },
        {
          "output_type": "stream",
          "name": "stderr",
          "text": [
            "100%|██████████| 125/125 [00:03<00:00, 34.30it/s]\n"
          ]
        },
        {
          "output_type": "stream",
          "name": "stdout",
          "text": [
            "validation loop:\n"
          ]
        },
        {
          "output_type": "stream",
          "name": "stderr",
          "text": [
            "100%|██████████| 32/32 [00:00<00:00, 37.06it/s]\n"
          ]
        },
        {
          "output_type": "stream",
          "name": "stdout",
          "text": [
            "Loss: 0.1271\n",
            "Train Accuracy: 98.61 %, Train Precision: 98.61 %\n",
            "Validation Accuracy: 97.35 %, Validation Precision: 97.35 %\n",
            "Epoch 3/4\n",
            "training loop:\n"
          ]
        },
        {
          "output_type": "stream",
          "name": "stderr",
          "text": [
            "100%|██████████| 125/125 [00:03<00:00, 35.88it/s]\n"
          ]
        },
        {
          "output_type": "stream",
          "name": "stdout",
          "text": [
            "evaluation loop:\n"
          ]
        },
        {
          "output_type": "stream",
          "name": "stderr",
          "text": [
            "100%|██████████| 125/125 [00:04<00:00, 28.32it/s]\n"
          ]
        },
        {
          "output_type": "stream",
          "name": "stdout",
          "text": [
            "validation loop:\n"
          ]
        },
        {
          "output_type": "stream",
          "name": "stderr",
          "text": [
            "100%|██████████| 32/32 [00:00<00:00, 35.24it/s]\n"
          ]
        },
        {
          "output_type": "stream",
          "name": "stdout",
          "text": [
            "Loss: 0.0988\n",
            "Train Accuracy: 98.62 %, Train Precision: 98.63 %\n",
            "Validation Accuracy: 97.40 %, Validation Precision: 97.40 %\n",
            "Epoch 4/4\n",
            "training loop:\n"
          ]
        },
        {
          "output_type": "stream",
          "name": "stderr",
          "text": [
            "100%|██████████| 125/125 [00:03<00:00, 36.08it/s]\n"
          ]
        },
        {
          "output_type": "stream",
          "name": "stdout",
          "text": [
            "evaluation loop:\n"
          ]
        },
        {
          "output_type": "stream",
          "name": "stderr",
          "text": [
            "100%|██████████| 125/125 [00:03<00:00, 36.07it/s]\n"
          ]
        },
        {
          "output_type": "stream",
          "name": "stdout",
          "text": [
            "validation loop:\n"
          ]
        },
        {
          "output_type": "stream",
          "name": "stderr",
          "text": [
            "100%|██████████| 32/32 [00:00<00:00, 37.40it/s]"
          ]
        },
        {
          "output_type": "stream",
          "name": "stdout",
          "text": [
            "Loss: 0.0781\n",
            "Train Accuracy: 98.59 %, Train Precision: 98.59 %\n",
            "Validation Accuracy: 97.25 %, Validation Precision: 97.25 %\n"
          ]
        },
        {
          "output_type": "stream",
          "name": "stderr",
          "text": [
            "\n"
          ]
        }
      ],
      "source": [
        "# Define loss function and optimizer\n",
        "criterion = nn.CrossEntropyLoss()\n",
        "optimizer = optim.Adam(model.parameters(), lr=1e-3)\n",
        "\n",
        "num_epochs = 4\n",
        "\n",
        "train_losses = []\n",
        "train_accuracies = []\n",
        "train_precisions = []\n",
        "val_accuracies = []\n",
        "val_precisions = []\n",
        "\n",
        "# Training\n",
        "\n",
        "for epoch in range(num_epochs):\n",
        "    print(f'Epoch {epoch + 1}/{num_epochs}')\n",
        "\n",
        "    model.train()\n",
        "    running_loss = 0.0\n",
        "\n",
        "    print(\"training loop:\")\n",
        "    for x, labels in tqdm(train_loader):\n",
        "        x = x.to(device)\n",
        "        labels = labels.to(device)\n",
        "        optimizer.zero_grad()\n",
        "        _, outputs = model(x)\n",
        "        loss = criterion(outputs, labels)\n",
        "        loss.backward()\n",
        "        optimizer.step()\n",
        "        running_loss += loss.item()\n",
        "\n",
        "    average_loss = running_loss / len(train_loader)\n",
        "    train_losses.append(average_loss)\n",
        "\n",
        "    print(\"evaluation loop:\")\n",
        "    # Evaluate on the training set\n",
        "    train_accuracy, train_precision = evaluate_model(model, train_loader, criterion)\n",
        "    train_accuracies.append(train_accuracy)\n",
        "    train_precisions.append(train_precision)\n",
        "\n",
        "    print(\"validation loop:\")\n",
        "    # Evaluate on the validation set\n",
        "    val_accuracy, val_precision = evaluate_model(model, val_loader, criterion)\n",
        "    val_accuracies.append(val_accuracy)\n",
        "    val_precisions.append(val_precision)\n",
        "\n",
        "\n",
        "    print(f'Loss: {average_loss:.4f}')\n",
        "    print(f'Train Accuracy: {train_accuracy*100:.2f} %, Train Precision: {train_precision*100:.2f} %')\n",
        "    print(f'Validation Accuracy: {val_accuracy*100:.2f} %, Validation Precision: {val_precision*100:.2f} %')"
      ]
    },
    {
      "cell_type": "code",
      "execution_count": 21,
      "metadata": {
        "colab": {
          "base_uri": "https://localhost:8080/",
          "height": 965
        },
        "id": "SxjiBipB9Aya",
        "outputId": "5fea8997-5a00-420d-cb36-b00e68eccbd7"
      },
      "outputs": [
        {
          "output_type": "display_data",
          "data": {
            "text/plain": [
              "<Figure size 600x300 with 1 Axes>"
            ],
            "image/png": "[encoded data removed]"
          },
          "metadata": {}
        },
        {
          "output_type": "display_data",
          "data": {
            "text/plain": [
              "<Figure size 600x300 with 1 Axes>"
            ],
            "image/png": "[encoded data removed]"
          },
          "metadata": {}
        },
        {
          "output_type": "display_data",
          "data": {
            "text/plain": [
              "<Figure size 600x300 with 1 Axes>"
            ],
            "image/png": "[encoded data removed]"
          },
          "metadata": {}
        }
      ],
      "source": [
        "plt.figure(figsize=(6, 3))\n",
        "plt.plot(train_losses, label='Training Loss')\n",
        "plt.xlabel('Epoch')\n",
        "plt.ylabel('Loss')\n",
        "plt.title('Training Loss')\n",
        "plt.legend()\n",
        "plt.grid(True)\n",
        "plt.show()\n",
        "\n",
        "# Plot Accuracy\n",
        "plt.figure(figsize=(6, 3))\n",
        "plt.plot(train_accuracies, label='Training Accuracy')\n",
        "plt.plot(val_accuracies, label='Validation Accuracy')\n",
        "plt.xlabel('Epoch')\n",
        "plt.ylabel('Accuracy')\n",
        "plt.title('Training and Validation Accuracy')\n",
        "plt.legend()\n",
        "plt.grid(True)\n",
        "plt.show()\n",
        "\n",
        "# Plot Precision\n",
        "plt.figure(figsize=(6, 3))\n",
        "plt.plot(train_precisions, label='Training Precision')\n",
        "plt.plot(val_precisions, label='Validation Precision')\n",
        "plt.xlabel('Epoch')\n",
        "plt.ylabel('Precision')\n",
        "plt.title('Training and Validation Precision')\n",
        "plt.legend()\n",
        "plt.grid(True)\n",
        "plt.show()"
      ]
    },
    {
      "cell_type": "code",
      "execution_count": 22,
      "metadata": {
        "colab": {
          "base_uri": "https://localhost:8080/"
        },
        "id": "yDMrASyH36I4",
        "outputId": "602cfce5-3afc-4286-9bdc-5ce9e3483669"
      },
      "outputs": [
        {
          "output_type": "stream",
          "name": "stderr",
          "text": [
            "100%|██████████| 32/32 [00:01<00:00, 25.39it/s]"
          ]
        },
        {
          "output_type": "stream",
          "name": "stdout",
          "text": [
            "\n",
            "test accuracy = 97.90 %\n",
            "test precision = 97.90 %\n"
          ]
        },
        {
          "output_type": "stream",
          "name": "stderr",
          "text": [
            "\n"
          ]
        }
      ],
      "source": [
        "test_accuracy, test_precision = evaluate_model(model, test_loader, criterion)\n",
        "\n",
        "print('\\ntest accuracy = %.2f %%' %(test_accuracy*100))\n",
        "print('test precision = %.2f %%' %(test_precision*100))"
      ]
    },
    {
      "cell_type": "markdown",
      "metadata": {
        "id": "ZloS4qXt9OfX"
      },
      "source": [
        "# part 3: adding 2 loss"
      ]
    },
    {
      "cell_type": "markdown",
      "metadata": {
        "id": "jXuZP0Gk36I9"
      },
      "source": [
        "<div dir=\"rtl\">\n",
        "<font face=\"B Nazanin\" size=\"5\">\n",
        "\n",
        "از ابتدا کلاس\n",
        "My_classifier\n",
        "را به گونه ای نوشتم که در forward\n",
        "هم خروجی feature_extractor\n",
        "و هم خروجی FC\n",
        "را برگرداند پس در فرایتند ترینینگ\n",
        "سه عکس\n",
        "anchor\n",
        "و\n",
        "positive\n",
        "و\n",
        "negative\n",
        "را به مدل میدهیم و تابع هزینه\n",
        "triplet loss\n",
        "را با سه تا تابع هزینه\n",
        "cross entropy\n",
        "  جمع میکنیم.\n",
        "\n",
        "  در آخر مثل قسمت های قبل نمودار ها نشان داده شده و نتایج مشخص است.\n",
        "\n",
        "\n",
        "\n",
        "</font>\n",
        "</div>"
      ]
    },
    {
      "cell_type": "code",
      "execution_count": 23,
      "metadata": {
        "id": "ddHztAqp9UMH"
      },
      "outputs": [],
      "source": [
        "feature_extractor = torchvision.models.resnet50(weights=torchvision.models.ResNet50_Weights.IMAGENET1K_V2)\n",
        "num_out_features_of_resnet = feature_extractor.fc.in_features\n",
        "feature_extractor.fc = nn.Identity()\n",
        "feature_extractor = feature_extractor.to(device)\n",
        "\n",
        "model = My_classifier(feature_extractor, num_out_features_of_resnet, len(class_names))\n",
        "model = model.to(device)"
      ]
    },
    {
      "cell_type": "code",
      "execution_count": 24,
      "metadata": {
        "colab": {
          "base_uri": "https://localhost:8080/"
        },
        "id": "Y9Y2PkpX9jJI",
        "outputId": "27f785dd-7dab-48d4-a7d3-f8cbd3253531"
      },
      "outputs": [
        {
          "output_type": "stream",
          "name": "stdout",
          "text": [
            "Epoch 1/4\n",
            "training loop:\n"
          ]
        },
        {
          "output_type": "stream",
          "name": "stderr",
          "text": [
            "100%|██████████| 125/125 [00:28<00:00,  4.35it/s]\n"
          ]
        },
        {
          "output_type": "stream",
          "name": "stdout",
          "text": [
            "evaluation loop:\n"
          ]
        },
        {
          "output_type": "stream",
          "name": "stderr",
          "text": [
            "100%|██████████| 125/125 [00:03<00:00, 38.18it/s]\n"
          ]
        },
        {
          "output_type": "stream",
          "name": "stdout",
          "text": [
            "validation loop:\n"
          ]
        },
        {
          "output_type": "stream",
          "name": "stderr",
          "text": [
            "100%|██████████| 32/32 [00:00<00:00, 37.59it/s]\n"
          ]
        },
        {
          "output_type": "stream",
          "name": "stdout",
          "text": [
            "Loss: 6.5766\n",
            "Train Accuracy: 96.17 %, Train Precision: 96.19 %\n",
            "Validation Accuracy: 94.55 %, Validation Precision: 94.55 %\n",
            "Epoch 2/4\n",
            "training loop:\n"
          ]
        },
        {
          "output_type": "stream",
          "name": "stderr",
          "text": [
            "100%|██████████| 125/125 [00:28<00:00,  4.39it/s]\n"
          ]
        },
        {
          "output_type": "stream",
          "name": "stdout",
          "text": [
            "evaluation loop:\n"
          ]
        },
        {
          "output_type": "stream",
          "name": "stderr",
          "text": [
            "100%|██████████| 125/125 [00:04<00:00, 29.88it/s]\n"
          ]
        },
        {
          "output_type": "stream",
          "name": "stdout",
          "text": [
            "validation loop:\n"
          ]
        },
        {
          "output_type": "stream",
          "name": "stderr",
          "text": [
            "100%|██████████| 32/32 [00:00<00:00, 35.08it/s]\n"
          ]
        },
        {
          "output_type": "stream",
          "name": "stdout",
          "text": [
            "Loss: 1.1557\n",
            "Train Accuracy: 98.94 %, Train Precision: 98.94 %\n",
            "Validation Accuracy: 97.45 %, Validation Precision: 97.47 %\n",
            "Epoch 3/4\n",
            "training loop:\n"
          ]
        },
        {
          "output_type": "stream",
          "name": "stderr",
          "text": [
            "100%|██████████| 125/125 [00:37<00:00,  3.33it/s]\n"
          ]
        },
        {
          "output_type": "stream",
          "name": "stdout",
          "text": [
            "evaluation loop:\n"
          ]
        },
        {
          "output_type": "stream",
          "name": "stderr",
          "text": [
            "100%|██████████| 125/125 [00:03<00:00, 35.19it/s]\n"
          ]
        },
        {
          "output_type": "stream",
          "name": "stdout",
          "text": [
            "validation loop:\n"
          ]
        },
        {
          "output_type": "stream",
          "name": "stderr",
          "text": [
            "100%|██████████| 32/32 [00:00<00:00, 36.38it/s]\n"
          ]
        },
        {
          "output_type": "stream",
          "name": "stdout",
          "text": [
            "Loss: 0.3870\n",
            "Train Accuracy: 99.54 %, Train Precision: 99.54 %\n",
            "Validation Accuracy: 97.50 %, Validation Precision: 97.57 %\n",
            "Epoch 4/4\n",
            "training loop:\n"
          ]
        },
        {
          "output_type": "stream",
          "name": "stderr",
          "text": [
            "100%|██████████| 125/125 [00:28<00:00,  4.38it/s]\n"
          ]
        },
        {
          "output_type": "stream",
          "name": "stdout",
          "text": [
            "evaluation loop:\n"
          ]
        },
        {
          "output_type": "stream",
          "name": "stderr",
          "text": [
            "100%|██████████| 125/125 [00:03<00:00, 38.31it/s]\n"
          ]
        },
        {
          "output_type": "stream",
          "name": "stdout",
          "text": [
            "validation loop:\n"
          ]
        },
        {
          "output_type": "stream",
          "name": "stderr",
          "text": [
            "100%|██████████| 32/32 [00:01<00:00, 28.54it/s]"
          ]
        },
        {
          "output_type": "stream",
          "name": "stdout",
          "text": [
            "Loss: 0.2833\n",
            "Train Accuracy: 99.59 %, Train Precision: 99.59 %\n",
            "Validation Accuracy: 97.70 %, Validation Precision: 97.70 %\n"
          ]
        },
        {
          "output_type": "stream",
          "name": "stderr",
          "text": [
            "\n"
          ]
        }
      ],
      "source": [
        "criterion_CrossEntropy = nn.CrossEntropyLoss()\n",
        "criterion_triplet =  nn.TripletMarginLoss(margin=7, p=2)\n",
        "optimizer = optim.Adam(model.parameters(), lr=1e-3)\n",
        "\n",
        "num_epochs = 4\n",
        "\n",
        "train_losses = []\n",
        "train_accuracies = []\n",
        "train_precisions = []\n",
        "val_accuracies = []\n",
        "val_precisions = []\n",
        "\n",
        "# Training\n",
        "\n",
        "for epoch in range(num_epochs):\n",
        "    print(f'Epoch {epoch + 1}/{num_epochs}')\n",
        "\n",
        "    model.train()\n",
        "    running_loss = 0.0\n",
        "\n",
        "    print(\"training loop:\")\n",
        "    for anchor_data, anchor_label, positive_data, positive_label, negative_data, negative_label in tqdm(train_loader_triplet):\n",
        "        anchor_data = anchor_data.to(device)\n",
        "        anchor_label = anchor_label.to(device)\n",
        "        positive_data = positive_data.to(device)\n",
        "        positive_label = positive_label.to(device)\n",
        "        negative_data = negative_data.to(device)\n",
        "        negative_label = negative_label.to(device)\n",
        "\n",
        "        optimizer.zero_grad()\n",
        "        features_anchor, output_anchor = model(anchor_data)\n",
        "        features_positive, output_positive = model(positive_data)\n",
        "        features_negative, output_negative = model(negative_data)\n",
        "        loss = criterion_triplet(features_anchor, features_positive, features_negative) + \\\n",
        "                       criterion_CrossEntropy(output_anchor, anchor_label)     +\\\n",
        "                       criterion_CrossEntropy(output_positive, positive_label)   +\\\n",
        "                       criterion_CrossEntropy(output_negative, negative_label)\n",
        "\n",
        "        loss.backward()\n",
        "        optimizer.step()\n",
        "        running_loss += loss.item()\n",
        "\n",
        "    average_loss = running_loss / len(train_loader)\n",
        "    train_losses.append(average_loss)\n",
        "\n",
        "    print(\"evaluation loop:\")\n",
        "    # Evaluate on the training set\n",
        "    train_accuracy, train_precision = evaluate_model(model, train_loader, criterion)\n",
        "    train_accuracies.append(train_accuracy)\n",
        "    train_precisions.append(train_precision)\n",
        "\n",
        "    print(\"validation loop:\")\n",
        "    # Evaluate on the validation set\n",
        "    val_accuracy, val_precision = evaluate_model(model, val_loader, criterion)\n",
        "    val_accuracies.append(val_accuracy)\n",
        "    val_precisions.append(val_precision)\n",
        "\n",
        "\n",
        "    print(f'Loss: {average_loss:.4f}')\n",
        "    print(f'Train Accuracy: {train_accuracy*100:.2f} %, Train Precision: {train_precision*100:.2f} %')\n",
        "    print(f'Validation Accuracy: {val_accuracy*100:.2f} %, Validation Precision: {val_precision*100:.2f} %')"
      ]
    },
    {
      "cell_type": "code",
      "execution_count": 25,
      "metadata": {
        "colab": {
          "base_uri": "https://localhost:8080/",
          "height": 965
        },
        "id": "OOnFh9fe9pRB",
        "outputId": "9dcb3074-3ade-4da9-fbe2-442094e52795"
      },
      "outputs": [
        {
          "output_type": "display_data",
          "data": {
            "text/plain": [
              "<Figure size 600x300 with 1 Axes>"
            ],
            "image/png": "[encoded data removed]"
          },
          "metadata": {}
        },
        {
          "output_type": "display_data",
          "data": {
            "text/plain": [
              "<Figure size 600x300 with 1 Axes>"
            ],
            "image/png": "[encoded data removed]"
          },
          "metadata": {}
        },
        {
          "output_type": "display_data",
          "data": {
            "text/plain": [
              "<Figure size 600x300 with 1 Axes>"
            ],
            "image/png": "[encoded data removed]"
          },
          "metadata": {}
        }
      ],
      "source": [
        "plt.figure(figsize=(6, 3))\n",
        "plt.plot(train_losses, label='Training Loss')\n",
        "plt.xlabel('Epoch')\n",
        "plt.ylabel('Loss')\n",
        "plt.title('Training Loss')\n",
        "plt.legend()\n",
        "plt.grid(True)\n",
        "plt.show()\n",
        "\n",
        "# Plot Accuracy\n",
        "plt.figure(figsize=(6, 3))\n",
        "plt.plot(train_accuracies, label='Training Accuracy')\n",
        "plt.plot(val_accuracies, label='Validation Accuracy')\n",
        "plt.xlabel('Epoch')\n",
        "plt.ylabel('Accuracy')\n",
        "plt.title('Training and Validation Accuracy')\n",
        "plt.legend()\n",
        "plt.grid(True)\n",
        "plt.show()\n",
        "\n",
        "# Plot Precision\n",
        "plt.figure(figsize=(6, 3))\n",
        "plt.plot(train_precisions, label='Training Precision')\n",
        "plt.plot(val_precisions, label='Validation Precision')\n",
        "plt.xlabel('Epoch')\n",
        "plt.ylabel('Precision')\n",
        "plt.title('Training and Validation Precision')\n",
        "plt.legend()\n",
        "plt.grid(True)\n",
        "plt.show()"
      ]
    },
    {
      "cell_type": "code",
      "execution_count": 26,
      "metadata": {
        "colab": {
          "base_uri": "https://localhost:8080/"
        },
        "id": "fQbMXiip36I-",
        "outputId": "a7345816-8adc-44c6-cdea-98f3a18c90a1"
      },
      "outputs": [
        {
          "output_type": "stream",
          "name": "stderr",
          "text": [
            "100%|██████████| 32/32 [00:01<00:00, 26.22it/s]"
          ]
        },
        {
          "output_type": "stream",
          "name": "stdout",
          "text": [
            "\n",
            "test accuracy = 97.60 %\n",
            "test precision = 97.60 %\n"
          ]
        },
        {
          "output_type": "stream",
          "name": "stderr",
          "text": [
            "\n"
          ]
        }
      ],
      "source": [
        "test_accuracy, test_precision = evaluate_model(model, test_loader, criterion)\n",
        "\n",
        "print('\\ntest accuracy = %.2f %%' %(test_accuracy*100))\n",
        "print('test precision = %.2f %%' %(test_precision*100))"
      ]
    }
  ],
  "metadata": {
    "accelerator": "GPU",
    "colab": {
      "gpuType": "T4",
      "provenance": [],
      "toc_visible": true
    },
    "kernelspec": {
      "display_name": "Python 3",
      "name": "python3"
    },
    "language_info": {
      "name": "python"
    }
  },
  "nbformat": 4,
  "nbformat_minor": 0
}